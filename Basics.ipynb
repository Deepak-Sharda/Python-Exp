{
 "cells": [
  {
   "cell_type": "code",
   "execution_count": 1,
   "metadata": {
    "collapsed": true
   },
   "outputs": [],
   "source": [
    "import csv"
   ]
  },
  {
   "cell_type": "code",
   "execution_count": 2,
   "metadata": {
    "collapsed": true
   },
   "outputs": [],
   "source": [
    "file=open(\"guns.csv\",\"r\")\n",
    "csvreader=csv.reader(file)"
   ]
  },
  {
   "cell_type": "code",
   "execution_count": 3,
   "metadata": {
    "collapsed": true
   },
   "outputs": [],
   "source": [
    "data=list(csvreader)"
   ]
  },
  {
   "cell_type": "code",
   "execution_count": 4,
   "metadata": {
    "collapsed": false
   },
   "outputs": [
    {
     "name": "stdout",
     "output_type": "stream",
     "text": [
      "[['', 'year', 'month', 'intent', 'police', 'sex', 'age', 'race', 'hispanic', 'place', 'education'], ['1', '2012', '01', 'Suicide', '0', 'M', '34', 'Asian/Pacific Islander', '100', 'Home', '4'], ['2', '2012', '01', 'Suicide', '0', 'F', '21', 'White', '100', 'Street', '3'], ['3', '2012', '01', 'Suicide', '0', 'M', '60', 'White', '100', 'Other specified', '4'], ['4', '2012', '02', 'Suicide', '0', 'M', '64', 'White', '100', 'Home', '4']]\n"
     ]
    }
   ],
   "source": [
    "print(data[0:5])"
   ]
  },
  {
   "cell_type": "code",
   "execution_count": 5,
   "metadata": {
    "collapsed": true
   },
   "outputs": [],
   "source": [
    "headers=data[0]"
   ]
  },
  {
   "cell_type": "code",
   "execution_count": 6,
   "metadata": {
    "collapsed": false
   },
   "outputs": [],
   "source": [
    "data=data[1:]"
   ]
  },
  {
   "cell_type": "code",
   "execution_count": 7,
   "metadata": {
    "collapsed": false
   },
   "outputs": [
    {
     "data": {
      "text/plain": [
       "[['1',\n",
       "  '2012',\n",
       "  '01',\n",
       "  'Suicide',\n",
       "  '0',\n",
       "  'M',\n",
       "  '34',\n",
       "  'Asian/Pacific Islander',\n",
       "  '100',\n",
       "  'Home',\n",
       "  '4'],\n",
       " ['2', '2012', '01', 'Suicide', '0', 'F', '21', 'White', '100', 'Street', '3'],\n",
       " ['3',\n",
       "  '2012',\n",
       "  '01',\n",
       "  'Suicide',\n",
       "  '0',\n",
       "  'M',\n",
       "  '60',\n",
       "  'White',\n",
       "  '100',\n",
       "  'Other specified',\n",
       "  '4'],\n",
       " ['4', '2012', '02', 'Suicide', '0', 'M', '64', 'White', '100', 'Home', '4'],\n",
       " ['5',\n",
       "  '2012',\n",
       "  '02',\n",
       "  'Suicide',\n",
       "  '0',\n",
       "  'M',\n",
       "  '31',\n",
       "  'White',\n",
       "  '100',\n",
       "  'Other specified',\n",
       "  '2']]"
      ]
     },
     "execution_count": 7,
     "metadata": {},
     "output_type": "execute_result"
    }
   ],
   "source": [
    "data[0:5]"
   ]
  },
  {
   "cell_type": "code",
   "execution_count": 8,
   "metadata": {
    "collapsed": false
   },
   "outputs": [],
   "source": [
    "years=[each[1] for each in data ]"
   ]
  },
  {
   "cell_type": "code",
   "execution_count": 9,
   "metadata": {
    "collapsed": true
   },
   "outputs": [],
   "source": [
    "year_counts={}"
   ]
  },
  {
   "cell_type": "code",
   "execution_count": 10,
   "metadata": {
    "collapsed": false
   },
   "outputs": [],
   "source": [
    "for each in years:\n",
    "    if each in year_counts:\n",
    "        year_counts[each]= year_counts[each] + 1\n",
    "    else:\n",
    "        year_counts[each]=0"
   ]
  },
  {
   "cell_type": "code",
   "execution_count": 11,
   "metadata": {
    "collapsed": false
   },
   "outputs": [
    {
     "data": {
      "text/plain": [
       "{'2012': 33562, '2013': 33635, '2014': 33598}"
      ]
     },
     "execution_count": 11,
     "metadata": {},
     "output_type": "execute_result"
    }
   ],
   "source": [
    "year_counts"
   ]
  },
  {
   "cell_type": "code",
   "execution_count": 12,
   "metadata": {
    "collapsed": false
   },
   "outputs": [
    {
     "data": {
      "text/plain": [
       "['2', '2012', '01', 'Suicide', '0', 'F', '21', 'White', '100', 'Street', '3']"
      ]
     },
     "execution_count": 12,
     "metadata": {},
     "output_type": "execute_result"
    }
   ],
   "source": [
    "data[1]"
   ]
  },
  {
   "cell_type": "code",
   "execution_count": 13,
   "metadata": {
    "collapsed": false
   },
   "outputs": [
    {
     "data": {
      "text/plain": [
       "['',\n",
       " 'year',\n",
       " 'month',\n",
       " 'intent',\n",
       " 'police',\n",
       " 'sex',\n",
       " 'age',\n",
       " 'race',\n",
       " 'hispanic',\n",
       " 'place',\n",
       " 'education']"
      ]
     },
     "execution_count": 13,
     "metadata": {},
     "output_type": "execute_result"
    }
   ],
   "source": [
    "headers"
   ]
  },
  {
   "cell_type": "code",
   "execution_count": 14,
   "metadata": {
    "collapsed": false
   },
   "outputs": [],
   "source": [
    "import datetime\n",
    "dates=[datetime.datetime(year=int(each[1]),month=int(each[2]), day=1) for each in data]"
   ]
  },
  {
   "cell_type": "code",
   "execution_count": 15,
   "metadata": {
    "collapsed": false
   },
   "outputs": [
    {
     "data": {
      "text/plain": [
       "[datetime.datetime(2012, 1, 1, 0, 0),\n",
       " datetime.datetime(2012, 1, 1, 0, 0),\n",
       " datetime.datetime(2012, 1, 1, 0, 0),\n",
       " datetime.datetime(2012, 2, 1, 0, 0),\n",
       " datetime.datetime(2012, 2, 1, 0, 0)]"
      ]
     },
     "execution_count": 15,
     "metadata": {},
     "output_type": "execute_result"
    }
   ],
   "source": [
    "dates[0:5]"
   ]
  },
  {
   "cell_type": "code",
   "execution_count": 16,
   "metadata": {
    "collapsed": true
   },
   "outputs": [],
   "source": [
    "date_counts={}"
   ]
  },
  {
   "cell_type": "code",
   "execution_count": 17,
   "metadata": {
    "collapsed": true
   },
   "outputs": [],
   "source": [
    "for each in dates:\n",
    "    if each in date_counts:\n",
    "        date_counts[each]= date_counts[each] + 1\n",
    "    else:\n",
    "        date_counts[each]=0"
   ]
  },
  {
   "cell_type": "code",
   "execution_count": 18,
   "metadata": {
    "collapsed": false
   },
   "outputs": [
    {
     "data": {
      "text/plain": [
       "{datetime.datetime(2012, 1, 1, 0, 0): 2757,\n",
       " datetime.datetime(2012, 2, 1, 0, 0): 2356,\n",
       " datetime.datetime(2012, 3, 1, 0, 0): 2742,\n",
       " datetime.datetime(2012, 4, 1, 0, 0): 2794,\n",
       " datetime.datetime(2012, 5, 1, 0, 0): 2998,\n",
       " datetime.datetime(2012, 6, 1, 0, 0): 2825,\n",
       " datetime.datetime(2012, 7, 1, 0, 0): 3025,\n",
       " datetime.datetime(2012, 8, 1, 0, 0): 2953,\n",
       " datetime.datetime(2012, 9, 1, 0, 0): 2851,\n",
       " datetime.datetime(2012, 10, 1, 0, 0): 2732,\n",
       " datetime.datetime(2012, 11, 1, 0, 0): 2728,\n",
       " datetime.datetime(2012, 12, 1, 0, 0): 2790,\n",
       " datetime.datetime(2013, 1, 1, 0, 0): 2863,\n",
       " datetime.datetime(2013, 2, 1, 0, 0): 2374,\n",
       " datetime.datetime(2013, 3, 1, 0, 0): 2861,\n",
       " datetime.datetime(2013, 4, 1, 0, 0): 2797,\n",
       " datetime.datetime(2013, 5, 1, 0, 0): 2805,\n",
       " datetime.datetime(2013, 6, 1, 0, 0): 2919,\n",
       " datetime.datetime(2013, 7, 1, 0, 0): 3078,\n",
       " datetime.datetime(2013, 8, 1, 0, 0): 2858,\n",
       " datetime.datetime(2013, 9, 1, 0, 0): 2741,\n",
       " datetime.datetime(2013, 10, 1, 0, 0): 2807,\n",
       " datetime.datetime(2013, 11, 1, 0, 0): 2757,\n",
       " datetime.datetime(2013, 12, 1, 0, 0): 2764,\n",
       " datetime.datetime(2014, 1, 1, 0, 0): 2650,\n",
       " datetime.datetime(2014, 2, 1, 0, 0): 2360,\n",
       " datetime.datetime(2014, 3, 1, 0, 0): 2683,\n",
       " datetime.datetime(2014, 4, 1, 0, 0): 2861,\n",
       " datetime.datetime(2014, 5, 1, 0, 0): 2863,\n",
       " datetime.datetime(2014, 6, 1, 0, 0): 2930,\n",
       " datetime.datetime(2014, 7, 1, 0, 0): 2883,\n",
       " datetime.datetime(2014, 8, 1, 0, 0): 2969,\n",
       " datetime.datetime(2014, 9, 1, 0, 0): 2913,\n",
       " datetime.datetime(2014, 10, 1, 0, 0): 2864,\n",
       " datetime.datetime(2014, 11, 1, 0, 0): 2755,\n",
       " datetime.datetime(2014, 12, 1, 0, 0): 2856}"
      ]
     },
     "execution_count": 18,
     "metadata": {},
     "output_type": "execute_result"
    }
   ],
   "source": [
    "date_counts"
   ]
  },
  {
   "cell_type": "code",
   "execution_count": 19,
   "metadata": {
    "collapsed": false
   },
   "outputs": [],
   "source": [
    "sex_counts={}\n",
    "race_counts={}"
   ]
  },
  {
   "cell_type": "code",
   "execution_count": 20,
   "metadata": {
    "collapsed": true
   },
   "outputs": [],
   "source": [
    "for each in data:\n",
    "    if each[5] in sex_counts:\n",
    "        sex_counts[each[5]]= sex_counts[each[5]] + 1\n",
    "    else:\n",
    "        sex_counts[each[5]]=0"
   ]
  },
  {
   "cell_type": "code",
   "execution_count": 21,
   "metadata": {
    "collapsed": false
   },
   "outputs": [
    {
     "data": {
      "text/plain": [
       "{'F': 14448, 'M': 86348}"
      ]
     },
     "execution_count": 21,
     "metadata": {},
     "output_type": "execute_result"
    }
   ],
   "source": [
    "sex_counts"
   ]
  },
  {
   "cell_type": "code",
   "execution_count": 22,
   "metadata": {
    "collapsed": true
   },
   "outputs": [],
   "source": [
    "for each in data:\n",
    "    if each[7] in race_counts:\n",
    "        race_counts[each[7]]= race_counts[each[7]] + 1\n",
    "    else:\n",
    "        race_counts[each[7]]=0"
   ]
  },
  {
   "cell_type": "code",
   "execution_count": 23,
   "metadata": {
    "collapsed": false
   },
   "outputs": [
    {
     "data": {
      "text/plain": [
       "{'Asian/Pacific Islander': 1325,\n",
       " 'Black': 23295,\n",
       " 'Hispanic': 9021,\n",
       " 'Native American/Native Alaskan': 916,\n",
       " 'White': 66236}"
      ]
     },
     "execution_count": 23,
     "metadata": {},
     "output_type": "execute_result"
    }
   ],
   "source": [
    "race_counts"
   ]
  },
  {
   "cell_type": "code",
   "execution_count": 24,
   "metadata": {
    "collapsed": false
   },
   "outputs": [],
   "source": [
    "file_2=open(\"census.csv\",\"r\")"
   ]
  },
  {
   "cell_type": "code",
   "execution_count": 25,
   "metadata": {
    "collapsed": true
   },
   "outputs": [],
   "source": [
    "csvreader_2=csv.reader(file_2)"
   ]
  },
  {
   "cell_type": "code",
   "execution_count": 26,
   "metadata": {
    "collapsed": true
   },
   "outputs": [],
   "source": [
    "census=list(csvreader_2)"
   ]
  },
  {
   "cell_type": "code",
   "execution_count": 27,
   "metadata": {
    "collapsed": false
   },
   "outputs": [
    {
     "data": {
      "text/plain": [
       "[['Id',\n",
       "  'Year',\n",
       "  'Id',\n",
       "  'Sex',\n",
       "  'Id',\n",
       "  'Hispanic Origin',\n",
       "  'Id',\n",
       "  'Id2',\n",
       "  'Geography',\n",
       "  'Total',\n",
       "  'Race Alone - White',\n",
       "  'Race Alone - Hispanic',\n",
       "  'Race Alone - Black or African American',\n",
       "  'Race Alone - American Indian and Alaska Native',\n",
       "  'Race Alone - Asian',\n",
       "  'Race Alone - Native Hawaiian and Other Pacific Islander',\n",
       "  'Two or More Races'],\n",
       " ['cen42010',\n",
       "  'April 1, 2010 Census',\n",
       "  'totsex',\n",
       "  'Both Sexes',\n",
       "  'tothisp',\n",
       "  'Total',\n",
       "  '0100000US',\n",
       "  '',\n",
       "  'United States',\n",
       "  '308745538',\n",
       "  '197318956',\n",
       "  '44618105',\n",
       "  '40250635',\n",
       "  '3739506',\n",
       "  '15159516',\n",
       "  '674625',\n",
       "  '6984195']]"
      ]
     },
     "execution_count": 27,
     "metadata": {},
     "output_type": "execute_result"
    }
   ],
   "source": [
    "census"
   ]
  },
  {
   "cell_type": "code",
   "execution_count": 28,
   "metadata": {
    "collapsed": false
   },
   "outputs": [
    {
     "data": {
      "text/plain": [
       "{'Asian/Pacific Islander': 1325,\n",
       " 'Black': 23295,\n",
       " 'Hispanic': 9021,\n",
       " 'Native American/Native Alaskan': 916,\n",
       " 'White': 66236}"
      ]
     },
     "execution_count": 28,
     "metadata": {},
     "output_type": "execute_result"
    }
   ],
   "source": [
    "race_counts"
   ]
  },
  {
   "cell_type": "code",
   "execution_count": null,
   "metadata": {
    "collapsed": true
   },
   "outputs": [],
   "source": []
  },
  {
   "cell_type": "code",
   "execution_count": 29,
   "metadata": {
    "collapsed": true
   },
   "outputs": [],
   "source": [
    "import re"
   ]
  },
  {
   "cell_type": "code",
   "execution_count": 30,
   "metadata": {
    "collapsed": false
   },
   "outputs": [
    {
     "data": {
      "text/plain": [
       "{'Asian/Pacific Islander': 1325,\n",
       " 'Black': 23295,\n",
       " 'Hispanic': 9021,\n",
       " 'Native American/Native Alaskan': 916,\n",
       " 'White': 66236}"
      ]
     },
     "execution_count": 30,
     "metadata": {},
     "output_type": "execute_result"
    }
   ],
   "source": [
    "race_counts"
   ]
  },
  {
   "cell_type": "code",
   "execution_count": 31,
   "metadata": {
    "collapsed": false
   },
   "outputs": [],
   "source": [
    "mapping={}\n",
    "for each in race_counts:\n",
    "    if re.search(\"Asian/Pacific Islander\", each):\n",
    "        mapping[each]=int(census[1][14]) + int(census[1][15])\n",
    "    elif re.search(\"Black\", each):\n",
    "        mapping[each]=int(census[1][12])\n",
    "    elif re.search(\"Hispanic\", each):\n",
    "        mapping[each]=int(census[1][11])\n",
    "    elif re.search(\"Native American/Native Alaskan\", each):\n",
    "        mapping[each]=int(census[1][13])\n",
    "    elif re.search(\"White\", each):\n",
    "        mapping[each]=int(census[1][10])"
   ]
  },
  {
   "cell_type": "code",
   "execution_count": 32,
   "metadata": {
    "collapsed": true
   },
   "outputs": [],
   "source": [
    "race_per_hundredk={}"
   ]
  },
  {
   "cell_type": "code",
   "execution_count": 33,
   "metadata": {
    "collapsed": false
   },
   "outputs": [
    {
     "data": {
      "text/plain": [
       "{'Asian/Pacific Islander': 1325,\n",
       " 'Black': 23295,\n",
       " 'Hispanic': 9021,\n",
       " 'Native American/Native Alaskan': 916,\n",
       " 'White': 66236}"
      ]
     },
     "execution_count": 33,
     "metadata": {},
     "output_type": "execute_result"
    }
   ],
   "source": [
    "race_counts"
   ]
  },
  {
   "cell_type": "code",
   "execution_count": 34,
   "metadata": {
    "collapsed": false
   },
   "outputs": [
    {
     "data": {
      "text/plain": [
       "{'Asian/Pacific Islander': 15834141,\n",
       " 'Black': 40250635,\n",
       " 'Hispanic': 44618105,\n",
       " 'Native American/Native Alaskan': 3739506,\n",
       " 'White': 197318956}"
      ]
     },
     "execution_count": 34,
     "metadata": {},
     "output_type": "execute_result"
    }
   ],
   "source": [
    "mapping"
   ]
  },
  {
   "cell_type": "code",
   "execution_count": 35,
   "metadata": {
    "collapsed": false
   },
   "outputs": [],
   "source": [
    "for each in race_counts:\n",
    "    for row in mapping:\n",
    "        if re.search(each,row):\n",
    "            race_per_hundredk[each]=race_counts[each]/mapping[row] \n",
    "            race_per_hundredk[each]=race_per_hundredk[each]*100000"
   ]
  },
  {
   "cell_type": "code",
   "execution_count": 36,
   "metadata": {
    "collapsed": false
   },
   "outputs": [
    {
     "data": {
      "text/plain": [
       "{'Asian/Pacific Islander': 8.36799419684339,\n",
       " 'Black': 57.87486334066531,\n",
       " 'Hispanic': 20.2182499682584,\n",
       " 'Native American/Native Alaskan': 24.49521407373059,\n",
       " 'White': 33.567986240511026}"
      ]
     },
     "execution_count": 36,
     "metadata": {},
     "output_type": "execute_result"
    }
   ],
   "source": [
    "race_per_hundredk"
   ]
  },
  {
   "cell_type": "code",
   "execution_count": 37,
   "metadata": {
    "collapsed": true
   },
   "outputs": [],
   "source": [
    "intent=[each[3] for each in data ]"
   ]
  },
  {
   "cell_type": "code",
   "execution_count": 38,
   "metadata": {
    "collapsed": false
   },
   "outputs": [
    {
     "data": {
      "text/plain": [
       "['',\n",
       " 'year',\n",
       " 'month',\n",
       " 'intent',\n",
       " 'police',\n",
       " 'sex',\n",
       " 'age',\n",
       " 'race',\n",
       " 'hispanic',\n",
       " 'place',\n",
       " 'education']"
      ]
     },
     "execution_count": 38,
     "metadata": {},
     "output_type": "execute_result"
    }
   ],
   "source": [
    "headers"
   ]
  },
  {
   "cell_type": "code",
   "execution_count": 39,
   "metadata": {
    "collapsed": false
   },
   "outputs": [],
   "source": [
    "race=[each[7] for each in data]"
   ]
  },
  {
   "cell_type": "code",
   "execution_count": 40,
   "metadata": {
    "collapsed": false
   },
   "outputs": [
    {
     "data": {
      "text/plain": [
       "['Asian/Pacific Islander',\n",
       " 'White',\n",
       " 'White',\n",
       " 'White',\n",
       " 'White',\n",
       " 'Native American/Native Alaskan',\n",
       " 'White',\n",
       " 'Native American/Native Alaskan',\n",
       " 'White',\n",
       " 'Black',\n",
       " 'White',\n",
       " 'Native American/Native Alaskan',\n",
       " 'White',\n",
       " 'Native American/Native Alaskan',\n",
       " 'White',\n",
       " 'Native American/Native Alaskan',\n",
       " 'White',\n",
       " 'Native American/Native Alaskan',\n",
       " 'Asian/Pacific Islander',\n",
       " 'White',\n",
       " 'Native American/Native Alaskan',\n",
       " 'White',\n",
       " 'Black',\n",
       " 'White',\n",
       " 'White',\n",
       " 'White',\n",
       " 'Native American/Native Alaskan',\n",
       " 'White',\n",
       " 'White',\n",
       " 'White',\n",
       " 'Native American/Native Alaskan',\n",
       " 'White',\n",
       " 'Native American/Native Alaskan',\n",
       " 'White',\n",
       " 'White',\n",
       " 'White',\n",
       " 'Native American/Native Alaskan',\n",
       " 'Native American/Native Alaskan',\n",
       " 'White',\n",
       " 'White',\n",
       " 'Native American/Native Alaskan',\n",
       " 'Asian/Pacific Islander',\n",
       " 'White',\n",
       " 'Native American/Native Alaskan',\n",
       " 'Native American/Native Alaskan',\n",
       " 'White',\n",
       " 'White',\n",
       " 'White',\n",
       " 'Native American/Native Alaskan',\n",
       " 'Asian/Pacific Islander',\n",
       " 'White',\n",
       " 'White',\n",
       " 'Native American/Native Alaskan',\n",
       " 'Native American/Native Alaskan',\n",
       " 'White',\n",
       " 'White',\n",
       " 'Black',\n",
       " 'White',\n",
       " 'White',\n",
       " 'Black',\n",
       " 'White',\n",
       " 'White',\n",
       " 'White',\n",
       " 'White',\n",
       " 'White',\n",
       " 'White',\n",
       " 'Native American/Native Alaskan',\n",
       " 'White',\n",
       " 'White',\n",
       " 'Native American/Native Alaskan',\n",
       " 'White',\n",
       " 'White',\n",
       " 'White',\n",
       " 'White',\n",
       " 'White',\n",
       " 'Native American/Native Alaskan',\n",
       " 'White',\n",
       " 'Asian/Pacific Islander',\n",
       " 'White',\n",
       " 'White',\n",
       " 'Native American/Native Alaskan',\n",
       " 'White',\n",
       " 'White',\n",
       " 'White',\n",
       " 'White',\n",
       " 'Native American/Native Alaskan',\n",
       " 'White',\n",
       " 'White',\n",
       " 'Black',\n",
       " 'Native American/Native Alaskan',\n",
       " 'White',\n",
       " 'White',\n",
       " 'Native American/Native Alaskan',\n",
       " 'Hispanic',\n",
       " 'White',\n",
       " 'White',\n",
       " 'White',\n",
       " 'White',\n",
       " 'White',\n",
       " 'White',\n",
       " 'Native American/Native Alaskan',\n",
       " 'White',\n",
       " 'Hispanic',\n",
       " 'White',\n",
       " 'White',\n",
       " 'Black',\n",
       " 'White',\n",
       " 'White',\n",
       " 'Native American/Native Alaskan',\n",
       " 'Native American/Native Alaskan',\n",
       " 'White',\n",
       " 'White',\n",
       " 'White',\n",
       " 'White',\n",
       " 'Native American/Native Alaskan',\n",
       " 'Black',\n",
       " 'White',\n",
       " 'Native American/Native Alaskan',\n",
       " 'Asian/Pacific Islander',\n",
       " 'White',\n",
       " 'White',\n",
       " 'White',\n",
       " 'White',\n",
       " 'Black',\n",
       " 'White',\n",
       " 'White',\n",
       " 'White',\n",
       " 'White',\n",
       " 'Native American/Native Alaskan',\n",
       " 'White',\n",
       " 'White',\n",
       " 'White',\n",
       " 'White',\n",
       " 'White',\n",
       " 'White',\n",
       " 'White',\n",
       " 'Black',\n",
       " 'White',\n",
       " 'White',\n",
       " 'White',\n",
       " 'White',\n",
       " 'White',\n",
       " 'White',\n",
       " 'White',\n",
       " 'White',\n",
       " 'Black',\n",
       " 'White',\n",
       " 'White',\n",
       " 'White',\n",
       " 'White',\n",
       " 'White',\n",
       " 'White',\n",
       " 'White',\n",
       " 'Black',\n",
       " 'Black',\n",
       " 'White',\n",
       " 'Black',\n",
       " 'Hispanic',\n",
       " 'White',\n",
       " 'White',\n",
       " 'White',\n",
       " 'Black',\n",
       " 'White',\n",
       " 'White',\n",
       " 'Black',\n",
       " 'Black',\n",
       " 'Black',\n",
       " 'Black',\n",
       " 'White',\n",
       " 'White',\n",
       " 'Black',\n",
       " 'White',\n",
       " 'White',\n",
       " 'White',\n",
       " 'White',\n",
       " 'Black',\n",
       " 'White',\n",
       " 'White',\n",
       " 'White',\n",
       " 'Black',\n",
       " 'White',\n",
       " 'Black',\n",
       " 'Black',\n",
       " 'White',\n",
       " 'Black',\n",
       " 'Black',\n",
       " 'White',\n",
       " 'Black',\n",
       " 'Black',\n",
       " 'Black',\n",
       " 'Black',\n",
       " 'Hispanic',\n",
       " 'White',\n",
       " 'White',\n",
       " 'Black',\n",
       " 'White',\n",
       " 'White',\n",
       " 'Black',\n",
       " 'Black',\n",
       " 'White',\n",
       " 'Black',\n",
       " 'White',\n",
       " 'White',\n",
       " 'White',\n",
       " 'Black',\n",
       " 'Black',\n",
       " 'Black',\n",
       " 'White',\n",
       " 'White',\n",
       " 'White',\n",
       " 'Black',\n",
       " 'Black',\n",
       " 'Black',\n",
       " 'White',\n",
       " 'White',\n",
       " 'Black',\n",
       " 'Black',\n",
       " 'White',\n",
       " 'White',\n",
       " 'White',\n",
       " 'White',\n",
       " 'White',\n",
       " 'Black',\n",
       " 'White',\n",
       " 'Black',\n",
       " 'White',\n",
       " 'White',\n",
       " 'White',\n",
       " 'White',\n",
       " 'Black',\n",
       " 'Black',\n",
       " 'White',\n",
       " 'White',\n",
       " 'White',\n",
       " 'White',\n",
       " 'Black',\n",
       " 'Black',\n",
       " 'White',\n",
       " 'White',\n",
       " 'White',\n",
       " 'Black',\n",
       " 'White',\n",
       " 'White',\n",
       " 'White',\n",
       " 'Black',\n",
       " 'White',\n",
       " 'White',\n",
       " 'Black',\n",
       " 'Black',\n",
       " 'Black',\n",
       " 'White',\n",
       " 'Black',\n",
       " 'Black',\n",
       " 'White',\n",
       " 'White',\n",
       " 'Black',\n",
       " 'White',\n",
       " 'Hispanic',\n",
       " 'White',\n",
       " 'White',\n",
       " 'White',\n",
       " 'White',\n",
       " 'Black',\n",
       " 'White',\n",
       " 'Black',\n",
       " 'White',\n",
       " 'Black',\n",
       " 'White',\n",
       " 'White',\n",
       " 'White',\n",
       " 'White',\n",
       " 'White',\n",
       " 'Black',\n",
       " 'White',\n",
       " 'White',\n",
       " 'White',\n",
       " 'White',\n",
       " 'White',\n",
       " 'White',\n",
       " 'White',\n",
       " 'White',\n",
       " 'Black',\n",
       " 'Black',\n",
       " 'White',\n",
       " 'Black',\n",
       " 'White',\n",
       " 'Black',\n",
       " 'White',\n",
       " 'White',\n",
       " 'Black',\n",
       " 'White',\n",
       " 'Black',\n",
       " 'White',\n",
       " 'Black',\n",
       " 'Black',\n",
       " 'White',\n",
       " 'Black',\n",
       " 'Black',\n",
       " 'White',\n",
       " 'White',\n",
       " 'White',\n",
       " 'White',\n",
       " 'White',\n",
       " 'White',\n",
       " 'White',\n",
       " 'White',\n",
       " 'White',\n",
       " 'Black',\n",
       " 'Black',\n",
       " 'White',\n",
       " 'White',\n",
       " 'Black',\n",
       " 'White',\n",
       " 'White',\n",
       " 'White',\n",
       " 'White',\n",
       " 'White',\n",
       " 'White',\n",
       " 'White',\n",
       " 'White',\n",
       " 'White',\n",
       " 'White',\n",
       " 'Black',\n",
       " 'White',\n",
       " 'White',\n",
       " 'Black',\n",
       " 'White',\n",
       " 'White',\n",
       " 'White',\n",
       " 'Black',\n",
       " 'White',\n",
       " 'White',\n",
       " 'White',\n",
       " 'White',\n",
       " 'White',\n",
       " 'Black',\n",
       " 'White',\n",
       " 'White',\n",
       " 'White',\n",
       " 'White',\n",
       " 'White',\n",
       " 'Black',\n",
       " 'White',\n",
       " 'Black',\n",
       " 'White',\n",
       " 'Black',\n",
       " 'White',\n",
       " 'White',\n",
       " 'White',\n",
       " 'White',\n",
       " 'Black',\n",
       " 'White',\n",
       " 'Black',\n",
       " 'Black',\n",
       " 'Black',\n",
       " 'White',\n",
       " 'Black',\n",
       " 'White',\n",
       " 'Black',\n",
       " 'Black',\n",
       " 'Black',\n",
       " 'White',\n",
       " 'White',\n",
       " 'Black',\n",
       " 'White',\n",
       " 'Black',\n",
       " 'White',\n",
       " 'Black',\n",
       " 'Black',\n",
       " 'Black',\n",
       " 'Black',\n",
       " 'Black',\n",
       " 'White',\n",
       " 'White',\n",
       " 'White',\n",
       " 'Black',\n",
       " 'White',\n",
       " 'White',\n",
       " 'White',\n",
       " 'White',\n",
       " 'White',\n",
       " 'White',\n",
       " 'White',\n",
       " 'Black',\n",
       " 'White',\n",
       " 'White',\n",
       " 'Asian/Pacific Islander',\n",
       " 'White',\n",
       " 'White',\n",
       " 'White',\n",
       " 'White',\n",
       " 'White',\n",
       " 'Black',\n",
       " 'White',\n",
       " 'White',\n",
       " 'White',\n",
       " 'White',\n",
       " 'White',\n",
       " 'White',\n",
       " 'White',\n",
       " 'White',\n",
       " 'White',\n",
       " 'White',\n",
       " 'White',\n",
       " 'White',\n",
       " 'Black',\n",
       " 'White',\n",
       " 'White',\n",
       " 'White',\n",
       " 'White',\n",
       " 'White',\n",
       " 'Black',\n",
       " 'Black',\n",
       " 'White',\n",
       " 'Black',\n",
       " 'White',\n",
       " 'Black',\n",
       " 'White',\n",
       " 'White',\n",
       " 'White',\n",
       " 'White',\n",
       " 'Black',\n",
       " 'White',\n",
       " 'White',\n",
       " 'White',\n",
       " 'White',\n",
       " 'White',\n",
       " 'White',\n",
       " 'Black',\n",
       " 'White',\n",
       " 'White',\n",
       " 'White',\n",
       " 'White',\n",
       " 'Black',\n",
       " 'Black',\n",
       " 'White',\n",
       " 'White',\n",
       " 'White',\n",
       " 'Black',\n",
       " 'White',\n",
       " 'White',\n",
       " 'White',\n",
       " 'Black',\n",
       " 'White',\n",
       " 'White',\n",
       " 'Black',\n",
       " 'White',\n",
       " 'Black',\n",
       " 'White',\n",
       " 'White',\n",
       " 'White',\n",
       " 'White',\n",
       " 'White',\n",
       " 'White',\n",
       " 'White',\n",
       " 'White',\n",
       " 'White',\n",
       " 'White',\n",
       " 'Black',\n",
       " 'Black',\n",
       " 'Black',\n",
       " 'White',\n",
       " 'White',\n",
       " 'White',\n",
       " 'White',\n",
       " 'White',\n",
       " 'White',\n",
       " 'White',\n",
       " 'White',\n",
       " 'Black',\n",
       " 'Black',\n",
       " 'White',\n",
       " 'Black',\n",
       " 'Black',\n",
       " 'White',\n",
       " 'Black',\n",
       " 'Black',\n",
       " 'White',\n",
       " 'White',\n",
       " 'Black',\n",
       " 'White',\n",
       " 'White',\n",
       " 'White',\n",
       " 'Black',\n",
       " 'Black',\n",
       " 'White',\n",
       " 'White',\n",
       " 'White',\n",
       " 'White',\n",
       " 'White',\n",
       " 'White',\n",
       " 'Black',\n",
       " 'White',\n",
       " 'Black',\n",
       " 'White',\n",
       " 'White',\n",
       " 'White',\n",
       " 'Black',\n",
       " 'White',\n",
       " 'White',\n",
       " 'Black',\n",
       " 'White',\n",
       " 'Black',\n",
       " 'White',\n",
       " 'Black',\n",
       " 'White',\n",
       " 'White',\n",
       " 'White',\n",
       " 'Black',\n",
       " 'Black',\n",
       " 'Black',\n",
       " 'White',\n",
       " 'Black',\n",
       " 'White',\n",
       " 'Black',\n",
       " 'White',\n",
       " 'White',\n",
       " 'White',\n",
       " 'White',\n",
       " 'Black',\n",
       " 'White',\n",
       " 'White',\n",
       " 'White',\n",
       " 'White',\n",
       " 'White',\n",
       " 'White',\n",
       " 'White',\n",
       " 'Black',\n",
       " 'White',\n",
       " 'Black',\n",
       " 'White',\n",
       " 'White',\n",
       " 'White',\n",
       " 'White',\n",
       " 'Black',\n",
       " 'White',\n",
       " 'White',\n",
       " 'White',\n",
       " 'Black',\n",
       " 'White',\n",
       " 'White',\n",
       " 'White',\n",
       " 'White',\n",
       " 'White',\n",
       " 'White',\n",
       " 'Black',\n",
       " 'Asian/Pacific Islander',\n",
       " 'White',\n",
       " 'White',\n",
       " 'White',\n",
       " 'White',\n",
       " 'White',\n",
       " 'Black',\n",
       " 'White',\n",
       " 'Black',\n",
       " 'Black',\n",
       " 'White',\n",
       " 'White',\n",
       " 'White',\n",
       " 'Black',\n",
       " 'White',\n",
       " 'Black',\n",
       " 'White',\n",
       " 'White',\n",
       " 'Black',\n",
       " 'White',\n",
       " 'Black',\n",
       " 'White',\n",
       " 'Black',\n",
       " 'White',\n",
       " 'White',\n",
       " 'White',\n",
       " 'White',\n",
       " 'White',\n",
       " 'White',\n",
       " 'White',\n",
       " 'White',\n",
       " 'Black',\n",
       " 'White',\n",
       " 'White',\n",
       " 'Black',\n",
       " 'White',\n",
       " 'White',\n",
       " 'Black',\n",
       " 'Black',\n",
       " 'White',\n",
       " 'White',\n",
       " 'White',\n",
       " 'White',\n",
       " 'White',\n",
       " 'White',\n",
       " 'White',\n",
       " 'Black',\n",
       " 'Black',\n",
       " 'White',\n",
       " 'White',\n",
       " 'White',\n",
       " 'Black',\n",
       " 'White',\n",
       " 'White',\n",
       " 'Black',\n",
       " 'White',\n",
       " 'White',\n",
       " 'Hispanic',\n",
       " 'Black',\n",
       " 'White',\n",
       " 'White',\n",
       " 'Black',\n",
       " 'White',\n",
       " 'White',\n",
       " 'White',\n",
       " 'White',\n",
       " 'White',\n",
       " 'White',\n",
       " 'Black',\n",
       " 'Black',\n",
       " 'White',\n",
       " 'White',\n",
       " 'White',\n",
       " 'Black',\n",
       " 'White',\n",
       " 'White',\n",
       " 'White',\n",
       " 'White',\n",
       " 'White',\n",
       " 'White',\n",
       " 'White',\n",
       " 'White',\n",
       " 'White',\n",
       " 'Black',\n",
       " 'White',\n",
       " 'White',\n",
       " 'White',\n",
       " 'Black',\n",
       " 'Black',\n",
       " 'White',\n",
       " 'Black',\n",
       " 'Black',\n",
       " 'White',\n",
       " 'White',\n",
       " 'White',\n",
       " 'White',\n",
       " 'Black',\n",
       " 'White',\n",
       " 'Black',\n",
       " 'Black',\n",
       " 'White',\n",
       " 'Black',\n",
       " 'White',\n",
       " 'White',\n",
       " 'Black',\n",
       " 'White',\n",
       " 'White',\n",
       " 'White',\n",
       " 'White',\n",
       " 'White',\n",
       " 'Black',\n",
       " 'Black',\n",
       " 'Black',\n",
       " 'Black',\n",
       " 'White',\n",
       " 'White',\n",
       " 'White',\n",
       " 'Black',\n",
       " 'White',\n",
       " 'White',\n",
       " 'White',\n",
       " 'White',\n",
       " 'White',\n",
       " 'White',\n",
       " 'White',\n",
       " 'White',\n",
       " 'Black',\n",
       " 'White',\n",
       " 'White',\n",
       " 'White',\n",
       " 'Black',\n",
       " 'White',\n",
       " 'White',\n",
       " 'White',\n",
       " 'Black',\n",
       " 'Black',\n",
       " 'White',\n",
       " 'White',\n",
       " 'White',\n",
       " 'Black',\n",
       " 'Black',\n",
       " 'White',\n",
       " 'White',\n",
       " 'White',\n",
       " 'White',\n",
       " 'Black',\n",
       " 'Black',\n",
       " 'Black',\n",
       " 'White',\n",
       " 'Black',\n",
       " 'White',\n",
       " 'White',\n",
       " 'White',\n",
       " 'Black',\n",
       " 'White',\n",
       " 'White',\n",
       " 'White',\n",
       " 'White',\n",
       " 'White',\n",
       " 'Black',\n",
       " 'White',\n",
       " 'Black',\n",
       " 'White',\n",
       " 'Black',\n",
       " 'White',\n",
       " 'Black',\n",
       " 'Black',\n",
       " 'White',\n",
       " 'Black',\n",
       " 'Black',\n",
       " 'White',\n",
       " 'White',\n",
       " 'White',\n",
       " 'White',\n",
       " 'Black',\n",
       " 'White',\n",
       " 'White',\n",
       " 'White',\n",
       " 'White',\n",
       " 'Black',\n",
       " 'Black',\n",
       " 'White',\n",
       " 'Black',\n",
       " 'White',\n",
       " 'White',\n",
       " 'White',\n",
       " 'Black',\n",
       " 'Black',\n",
       " 'Black',\n",
       " 'White',\n",
       " 'White',\n",
       " 'White',\n",
       " 'White',\n",
       " 'White',\n",
       " 'White',\n",
       " 'White',\n",
       " 'White',\n",
       " 'White',\n",
       " 'White',\n",
       " 'White',\n",
       " 'White',\n",
       " 'White',\n",
       " 'White',\n",
       " 'Black',\n",
       " 'Black',\n",
       " 'Black',\n",
       " 'White',\n",
       " 'Black',\n",
       " 'Black',\n",
       " 'White',\n",
       " 'Black',\n",
       " 'White',\n",
       " 'White',\n",
       " 'White',\n",
       " 'White',\n",
       " 'White',\n",
       " 'White',\n",
       " 'Black',\n",
       " 'White',\n",
       " 'White',\n",
       " 'White',\n",
       " 'Black',\n",
       " 'White',\n",
       " 'White',\n",
       " 'White',\n",
       " 'White',\n",
       " 'Black',\n",
       " 'White',\n",
       " 'White',\n",
       " 'White',\n",
       " 'Black',\n",
       " 'Black',\n",
       " 'White',\n",
       " 'White',\n",
       " 'Black',\n",
       " 'White',\n",
       " 'Black',\n",
       " 'Black',\n",
       " 'Black',\n",
       " 'White',\n",
       " 'White',\n",
       " 'Black',\n",
       " 'White',\n",
       " 'Black',\n",
       " 'White',\n",
       " 'White',\n",
       " 'Black',\n",
       " 'White',\n",
       " 'White',\n",
       " 'White',\n",
       " 'White',\n",
       " 'White',\n",
       " 'White',\n",
       " 'White',\n",
       " 'White',\n",
       " 'White',\n",
       " 'White',\n",
       " 'Black',\n",
       " 'White',\n",
       " 'White',\n",
       " 'White',\n",
       " 'Black',\n",
       " 'White',\n",
       " 'White',\n",
       " 'Native American/Native Alaskan',\n",
       " 'White',\n",
       " 'Black',\n",
       " 'White',\n",
       " 'White',\n",
       " 'White',\n",
       " 'Black',\n",
       " 'Black',\n",
       " 'Black',\n",
       " 'White',\n",
       " 'White',\n",
       " 'White',\n",
       " 'White',\n",
       " 'White',\n",
       " 'White',\n",
       " 'Hispanic',\n",
       " 'White',\n",
       " 'White',\n",
       " 'Black',\n",
       " 'Black',\n",
       " 'White',\n",
       " 'White',\n",
       " 'White',\n",
       " 'White',\n",
       " 'White',\n",
       " 'White',\n",
       " 'White',\n",
       " 'Black',\n",
       " 'Black',\n",
       " 'White',\n",
       " 'Black',\n",
       " 'White',\n",
       " 'White',\n",
       " 'White',\n",
       " 'White',\n",
       " 'Black',\n",
       " 'White',\n",
       " 'White',\n",
       " 'White',\n",
       " 'White',\n",
       " 'Black',\n",
       " 'Black',\n",
       " 'White',\n",
       " 'Black',\n",
       " 'White',\n",
       " 'Black',\n",
       " 'Black',\n",
       " 'Black',\n",
       " 'White',\n",
       " 'White',\n",
       " 'Black',\n",
       " 'White',\n",
       " 'Hispanic',\n",
       " 'White',\n",
       " 'White',\n",
       " 'Asian/Pacific Islander',\n",
       " 'White',\n",
       " 'White',\n",
       " 'Black',\n",
       " 'White',\n",
       " 'Black',\n",
       " 'White',\n",
       " 'White',\n",
       " 'White',\n",
       " 'Black',\n",
       " 'Black',\n",
       " 'White',\n",
       " 'White',\n",
       " 'White',\n",
       " 'Black',\n",
       " 'White',\n",
       " 'White',\n",
       " 'Black',\n",
       " 'White',\n",
       " 'Black',\n",
       " 'White',\n",
       " 'Black',\n",
       " 'White',\n",
       " 'Black',\n",
       " 'Black',\n",
       " 'White',\n",
       " 'Black',\n",
       " 'Black',\n",
       " 'Black',\n",
       " 'White',\n",
       " 'Black',\n",
       " 'Black',\n",
       " 'White',\n",
       " 'White',\n",
       " 'Black',\n",
       " 'White',\n",
       " 'Black',\n",
       " 'Black',\n",
       " 'White',\n",
       " 'Black',\n",
       " 'Hispanic',\n",
       " 'Hispanic',\n",
       " 'Hispanic',\n",
       " 'White',\n",
       " 'Black',\n",
       " 'White',\n",
       " 'Black',\n",
       " 'White',\n",
       " 'Black',\n",
       " 'White',\n",
       " 'White',\n",
       " 'Black',\n",
       " 'Black',\n",
       " 'White',\n",
       " 'Black',\n",
       " 'White',\n",
       " 'Black',\n",
       " 'White',\n",
       " 'White',\n",
       " 'White',\n",
       " 'White',\n",
       " 'White',\n",
       " 'Black',\n",
       " 'Black',\n",
       " 'White',\n",
       " 'Hispanic',\n",
       " 'White',\n",
       " 'Black',\n",
       " 'Black',\n",
       " 'White',\n",
       " 'White',\n",
       " 'White',\n",
       " 'Black',\n",
       " 'Black',\n",
       " 'Black',\n",
       " 'White',\n",
       " 'Black',\n",
       " 'Black',\n",
       " 'Black',\n",
       " 'White',\n",
       " 'Black',\n",
       " 'Black',\n",
       " 'Black',\n",
       " 'Black',\n",
       " 'Black',\n",
       " 'Black',\n",
       " 'Black',\n",
       " 'White',\n",
       " 'White',\n",
       " 'White',\n",
       " 'White',\n",
       " 'White',\n",
       " 'Black',\n",
       " 'Black',\n",
       " 'Black',\n",
       " 'White',\n",
       " 'Black',\n",
       " 'Black',\n",
       " 'White',\n",
       " 'White',\n",
       " 'White',\n",
       " 'White',\n",
       " 'White',\n",
       " 'White',\n",
       " 'White',\n",
       " 'White',\n",
       " 'White',\n",
       " 'White',\n",
       " 'Black',\n",
       " 'White',\n",
       " 'White',\n",
       " 'Black',\n",
       " 'White',\n",
       " 'White',\n",
       " 'White',\n",
       " 'White',\n",
       " 'White',\n",
       " 'White',\n",
       " 'Black',\n",
       " 'White',\n",
       " 'Black',\n",
       " 'White',\n",
       " 'White',\n",
       " 'Black',\n",
       " 'White',\n",
       " 'White',\n",
       " 'White',\n",
       " 'White',\n",
       " 'White',\n",
       " 'White',\n",
       " 'White',\n",
       " 'White',\n",
       " 'Black',\n",
       " 'Native American/Native Alaskan',\n",
       " 'White',\n",
       " ...]"
      ]
     },
     "execution_count": 40,
     "metadata": {},
     "output_type": "execute_result"
    }
   ],
   "source": [
    "race"
   ]
  },
  {
   "cell_type": "code",
   "execution_count": 41,
   "metadata": {
    "collapsed": true
   },
   "outputs": [],
   "source": [
    "homicide_race_counts={}"
   ]
  },
  {
   "cell_type": "code",
   "execution_count": null,
   "metadata": {
    "collapsed": true
   },
   "outputs": [],
   "source": []
  },
  {
   "cell_type": "code",
   "execution_count": 47,
   "metadata": {
    "collapsed": false
   },
   "outputs": [],
   "source": [
    "for i,value in enumerate(race):\n",
    "   \n",
    "    if intent[i]==\"Homicide\":\n",
    "        if race[i] in homicide_race_counts:\n",
    "            homicide_race_counts[race[i]] += 1\n",
    "        else:\n",
    "            homicide_race_counts[race[i]] = 1\n",
    "        "
   ]
  },
  {
   "cell_type": "code",
   "execution_count": 48,
   "metadata": {
    "collapsed": false
   },
   "outputs": [
    {
     "data": {
      "text/plain": [
       "{'Asian/Pacific Islander': 559,\n",
       " 'Black': 19510,\n",
       " 'Hispanic': 5634,\n",
       " 'Native American/Native Alaskan': 326,\n",
       " 'White': 9147}"
      ]
     },
     "execution_count": 48,
     "metadata": {},
     "output_type": "execute_result"
    }
   ],
   "source": [
    "homicide_race_counts"
   ]
  },
  {
   "cell_type": "code",
   "execution_count": 50,
   "metadata": {
    "collapsed": false
   },
   "outputs": [
    {
     "data": {
      "text/plain": [
       "{'Asian/Pacific Islander': 15834141,\n",
       " 'Black': 40250635,\n",
       " 'Hispanic': 44618105,\n",
       " 'Native American/Native Alaskan': 3739506,\n",
       " 'White': 197318956}"
      ]
     },
     "execution_count": 50,
     "metadata": {},
     "output_type": "execute_result"
    }
   ],
   "source": [
    "mapping"
   ]
  },
  {
   "cell_type": "code",
   "execution_count": 55,
   "metadata": {
    "collapsed": true
   },
   "outputs": [],
   "source": [
    "homicide_per_hundredk={}\n",
    "for each in homicide_race_counts:\n",
    "    for row in mapping:\n",
    "        if re.search(each,row):\n",
    "            homicide_per_hundredk[each]=homicide_race_counts[each]/mapping[row] \n",
    "            homicide_per_hundredk[each]=homicide_per_hundredk[each]*100000"
   ]
  },
  {
   "cell_type": "code",
   "execution_count": 56,
   "metadata": {
    "collapsed": false
   },
   "outputs": [
    {
     "data": {
      "text/plain": [
       "{'Asian/Pacific Islander': 3.530346230970155,\n",
       " 'Black': 48.471284987180944,\n",
       " 'Hispanic': 12.627161104219914,\n",
       " 'Native American/Native Alaskan': 8.717729026240365,\n",
       " 'White': 4.6356417981453335}"
      ]
     },
     "execution_count": 56,
     "metadata": {},
     "output_type": "execute_result"
    }
   ],
   "source": [
    "homicide_per_hundredk"
   ]
  },
  {
   "cell_type": "code",
   "execution_count": null,
   "metadata": {
    "collapsed": true
   },
   "outputs": [],
   "source": []
  },
  {
   "cell_type": "code",
   "execution_count": null,
   "metadata": {
    "collapsed": true
   },
   "outputs": [],
   "source": []
  },
  {
   "cell_type": "code",
   "execution_count": null,
   "metadata": {
    "collapsed": true
   },
   "outputs": [],
   "source": []
  },
  {
   "cell_type": "code",
   "execution_count": null,
   "metadata": {
    "collapsed": true
   },
   "outputs": [],
   "source": []
  },
  {
   "cell_type": "code",
   "execution_count": null,
   "metadata": {
    "collapsed": true
   },
   "outputs": [],
   "source": []
  },
  {
   "cell_type": "code",
   "execution_count": null,
   "metadata": {
    "collapsed": true
   },
   "outputs": [],
   "source": []
  },
  {
   "cell_type": "code",
   "execution_count": null,
   "metadata": {
    "collapsed": true
   },
   "outputs": [],
   "source": []
  },
  {
   "cell_type": "code",
   "execution_count": null,
   "metadata": {
    "collapsed": true
   },
   "outputs": [],
   "source": []
  },
  {
   "cell_type": "code",
   "execution_count": null,
   "metadata": {
    "collapsed": true
   },
   "outputs": [],
   "source": []
  },
  {
   "cell_type": "code",
   "execution_count": null,
   "metadata": {
    "collapsed": true
   },
   "outputs": [],
   "source": []
  },
  {
   "cell_type": "code",
   "execution_count": null,
   "metadata": {
    "collapsed": true
   },
   "outputs": [],
   "source": []
  },
  {
   "cell_type": "code",
   "execution_count": null,
   "metadata": {
    "collapsed": true
   },
   "outputs": [],
   "source": []
  },
  {
   "cell_type": "code",
   "execution_count": null,
   "metadata": {
    "collapsed": true
   },
   "outputs": [],
   "source": []
  },
  {
   "cell_type": "code",
   "execution_count": null,
   "metadata": {
    "collapsed": true
   },
   "outputs": [],
   "source": []
  },
  {
   "cell_type": "code",
   "execution_count": null,
   "metadata": {
    "collapsed": true
   },
   "outputs": [],
   "source": []
  },
  {
   "cell_type": "code",
   "execution_count": null,
   "metadata": {
    "collapsed": true
   },
   "outputs": [],
   "source": []
  },
  {
   "cell_type": "code",
   "execution_count": null,
   "metadata": {
    "collapsed": true
   },
   "outputs": [],
   "source": []
  },
  {
   "cell_type": "code",
   "execution_count": null,
   "metadata": {
    "collapsed": true
   },
   "outputs": [],
   "source": []
  },
  {
   "cell_type": "code",
   "execution_count": null,
   "metadata": {
    "collapsed": true
   },
   "outputs": [],
   "source": []
  },
  {
   "cell_type": "code",
   "execution_count": null,
   "metadata": {
    "collapsed": true
   },
   "outputs": [],
   "source": []
  },
  {
   "cell_type": "code",
   "execution_count": null,
   "metadata": {
    "collapsed": true
   },
   "outputs": [],
   "source": []
  },
  {
   "cell_type": "code",
   "execution_count": null,
   "metadata": {
    "collapsed": true
   },
   "outputs": [],
   "source": []
  },
  {
   "cell_type": "code",
   "execution_count": null,
   "metadata": {
    "collapsed": true
   },
   "outputs": [],
   "source": []
  },
  {
   "cell_type": "code",
   "execution_count": null,
   "metadata": {
    "collapsed": true
   },
   "outputs": [],
   "source": []
  },
  {
   "cell_type": "code",
   "execution_count": null,
   "metadata": {
    "collapsed": true
   },
   "outputs": [],
   "source": []
  },
  {
   "cell_type": "code",
   "execution_count": null,
   "metadata": {
    "collapsed": true
   },
   "outputs": [],
   "source": []
  },
  {
   "cell_type": "code",
   "execution_count": null,
   "metadata": {
    "collapsed": true
   },
   "outputs": [],
   "source": []
  },
  {
   "cell_type": "code",
   "execution_count": null,
   "metadata": {
    "collapsed": true
   },
   "outputs": [],
   "source": []
  },
  {
   "cell_type": "code",
   "execution_count": null,
   "metadata": {
    "collapsed": true
   },
   "outputs": [],
   "source": []
  },
  {
   "cell_type": "code",
   "execution_count": null,
   "metadata": {
    "collapsed": true
   },
   "outputs": [],
   "source": []
  },
  {
   "cell_type": "code",
   "execution_count": null,
   "metadata": {
    "collapsed": true
   },
   "outputs": [],
   "source": []
  },
  {
   "cell_type": "code",
   "execution_count": null,
   "metadata": {
    "collapsed": true
   },
   "outputs": [],
   "source": []
  },
  {
   "cell_type": "code",
   "execution_count": null,
   "metadata": {
    "collapsed": true
   },
   "outputs": [],
   "source": []
  },
  {
   "cell_type": "code",
   "execution_count": null,
   "metadata": {
    "collapsed": true
   },
   "outputs": [],
   "source": []
  },
  {
   "cell_type": "code",
   "execution_count": null,
   "metadata": {
    "collapsed": true
   },
   "outputs": [],
   "source": []
  },
  {
   "cell_type": "code",
   "execution_count": null,
   "metadata": {
    "collapsed": true
   },
   "outputs": [],
   "source": []
  },
  {
   "cell_type": "code",
   "execution_count": null,
   "metadata": {
    "collapsed": true
   },
   "outputs": [],
   "source": []
  },
  {
   "cell_type": "code",
   "execution_count": null,
   "metadata": {
    "collapsed": true
   },
   "outputs": [],
   "source": []
  },
  {
   "cell_type": "code",
   "execution_count": null,
   "metadata": {
    "collapsed": true
   },
   "outputs": [],
   "source": []
  },
  {
   "cell_type": "code",
   "execution_count": null,
   "metadata": {
    "collapsed": true
   },
   "outputs": [],
   "source": []
  },
  {
   "cell_type": "code",
   "execution_count": null,
   "metadata": {
    "collapsed": true
   },
   "outputs": [],
   "source": []
  },
  {
   "cell_type": "code",
   "execution_count": null,
   "metadata": {
    "collapsed": true
   },
   "outputs": [],
   "source": []
  },
  {
   "cell_type": "code",
   "execution_count": null,
   "metadata": {
    "collapsed": true
   },
   "outputs": [],
   "source": []
  },
  {
   "cell_type": "code",
   "execution_count": null,
   "metadata": {
    "collapsed": true
   },
   "outputs": [],
   "source": []
  },
  {
   "cell_type": "code",
   "execution_count": null,
   "metadata": {
    "collapsed": true
   },
   "outputs": [],
   "source": []
  },
  {
   "cell_type": "code",
   "execution_count": null,
   "metadata": {
    "collapsed": true
   },
   "outputs": [],
   "source": []
  },
  {
   "cell_type": "code",
   "execution_count": null,
   "metadata": {
    "collapsed": true
   },
   "outputs": [],
   "source": []
  },
  {
   "cell_type": "code",
   "execution_count": null,
   "metadata": {
    "collapsed": true
   },
   "outputs": [],
   "source": []
  },
  {
   "cell_type": "code",
   "execution_count": null,
   "metadata": {
    "collapsed": true
   },
   "outputs": [],
   "source": []
  },
  {
   "cell_type": "code",
   "execution_count": null,
   "metadata": {
    "collapsed": true
   },
   "outputs": [],
   "source": []
  },
  {
   "cell_type": "code",
   "execution_count": null,
   "metadata": {
    "collapsed": true
   },
   "outputs": [],
   "source": []
  },
  {
   "cell_type": "code",
   "execution_count": null,
   "metadata": {
    "collapsed": true
   },
   "outputs": [],
   "source": []
  },
  {
   "cell_type": "code",
   "execution_count": null,
   "metadata": {
    "collapsed": true
   },
   "outputs": [],
   "source": []
  },
  {
   "cell_type": "code",
   "execution_count": null,
   "metadata": {
    "collapsed": true
   },
   "outputs": [],
   "source": []
  },
  {
   "cell_type": "code",
   "execution_count": null,
   "metadata": {
    "collapsed": true
   },
   "outputs": [],
   "source": []
  },
  {
   "cell_type": "code",
   "execution_count": null,
   "metadata": {
    "collapsed": true
   },
   "outputs": [],
   "source": []
  },
  {
   "cell_type": "code",
   "execution_count": null,
   "metadata": {
    "collapsed": true
   },
   "outputs": [],
   "source": []
  },
  {
   "cell_type": "code",
   "execution_count": null,
   "metadata": {
    "collapsed": true
   },
   "outputs": [],
   "source": []
  },
  {
   "cell_type": "code",
   "execution_count": null,
   "metadata": {
    "collapsed": true
   },
   "outputs": [],
   "source": []
  },
  {
   "cell_type": "code",
   "execution_count": null,
   "metadata": {
    "collapsed": true
   },
   "outputs": [],
   "source": []
  },
  {
   "cell_type": "code",
   "execution_count": null,
   "metadata": {
    "collapsed": true
   },
   "outputs": [],
   "source": []
  },
  {
   "cell_type": "code",
   "execution_count": null,
   "metadata": {
    "collapsed": true
   },
   "outputs": [],
   "source": []
  },
  {
   "cell_type": "code",
   "execution_count": null,
   "metadata": {
    "collapsed": true
   },
   "outputs": [],
   "source": []
  },
  {
   "cell_type": "code",
   "execution_count": null,
   "metadata": {
    "collapsed": true
   },
   "outputs": [],
   "source": []
  },
  {
   "cell_type": "code",
   "execution_count": null,
   "metadata": {
    "collapsed": true
   },
   "outputs": [],
   "source": []
  },
  {
   "cell_type": "code",
   "execution_count": null,
   "metadata": {
    "collapsed": true
   },
   "outputs": [],
   "source": []
  },
  {
   "cell_type": "code",
   "execution_count": null,
   "metadata": {
    "collapsed": true
   },
   "outputs": [],
   "source": []
  },
  {
   "cell_type": "code",
   "execution_count": null,
   "metadata": {
    "collapsed": true
   },
   "outputs": [],
   "source": []
  },
  {
   "cell_type": "code",
   "execution_count": null,
   "metadata": {
    "collapsed": true
   },
   "outputs": [],
   "source": []
  },
  {
   "cell_type": "code",
   "execution_count": null,
   "metadata": {
    "collapsed": true
   },
   "outputs": [],
   "source": []
  },
  {
   "cell_type": "code",
   "execution_count": null,
   "metadata": {
    "collapsed": true
   },
   "outputs": [],
   "source": []
  },
  {
   "cell_type": "code",
   "execution_count": null,
   "metadata": {
    "collapsed": true
   },
   "outputs": [],
   "source": []
  },
  {
   "cell_type": "code",
   "execution_count": null,
   "metadata": {
    "collapsed": true
   },
   "outputs": [],
   "source": []
  },
  {
   "cell_type": "code",
   "execution_count": null,
   "metadata": {
    "collapsed": true
   },
   "outputs": [],
   "source": []
  },
  {
   "cell_type": "code",
   "execution_count": null,
   "metadata": {
    "collapsed": true
   },
   "outputs": [],
   "source": []
  },
  {
   "cell_type": "code",
   "execution_count": null,
   "metadata": {
    "collapsed": true
   },
   "outputs": [],
   "source": []
  },
  {
   "cell_type": "code",
   "execution_count": null,
   "metadata": {
    "collapsed": true
   },
   "outputs": [],
   "source": []
  },
  {
   "cell_type": "code",
   "execution_count": null,
   "metadata": {
    "collapsed": true
   },
   "outputs": [],
   "source": []
  },
  {
   "cell_type": "code",
   "execution_count": null,
   "metadata": {
    "collapsed": true
   },
   "outputs": [],
   "source": []
  },
  {
   "cell_type": "code",
   "execution_count": null,
   "metadata": {
    "collapsed": true
   },
   "outputs": [],
   "source": []
  },
  {
   "cell_type": "code",
   "execution_count": null,
   "metadata": {
    "collapsed": true
   },
   "outputs": [],
   "source": []
  },
  {
   "cell_type": "code",
   "execution_count": null,
   "metadata": {
    "collapsed": true
   },
   "outputs": [],
   "source": []
  },
  {
   "cell_type": "code",
   "execution_count": null,
   "metadata": {
    "collapsed": true
   },
   "outputs": [],
   "source": []
  },
  {
   "cell_type": "code",
   "execution_count": null,
   "metadata": {
    "collapsed": true
   },
   "outputs": [],
   "source": []
  }
 ],
 "metadata": {
  "kernelspec": {
   "display_name": "Python 3",
   "language": "python",
   "name": "python3"
  },
  "language_info": {
   "codemirror_mode": {
    "name": "ipython",
    "version": 3
   },
   "file_extension": ".py",
   "mimetype": "text/x-python",
   "name": "python",
   "nbconvert_exporter": "python",
   "pygments_lexer": "ipython3",
   "version": "3.4.3"
  }
 },
 "nbformat": 4,
 "nbformat_minor": 0
}
